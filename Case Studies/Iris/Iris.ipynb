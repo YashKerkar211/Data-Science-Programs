{
  "nbformat": 4,
  "nbformat_minor": 0,
  "metadata": {
    "colab": {
      "provenance": [],
      "authorship_tag": "ABX9TyM2tbdHitL85EGnXS4ULOVX",
      "include_colab_link": true
    },
    "kernelspec": {
      "name": "python3",
      "display_name": "Python 3"
    },
    "language_info": {
      "name": "python"
    }
  },
  "cells": [
    {
      "cell_type": "markdown",
      "metadata": {
        "id": "view-in-github",
        "colab_type": "text"
      },
      "source": [
        "<a href=\"https://colab.research.google.com/github/YashKerkar211/Data-Science-Programs/blob/main/Case%20Studies/Iris/Iris.ipynb\" target=\"_parent\"><img src=\"https://colab.research.google.com/assets/colab-badge.svg\" alt=\"Open In Colab\"/></a>"
      ]
    },
    {
      "cell_type": "code",
      "source": [
        "# Data engineering\n",
        "import pandas as pd\n",
        "df=pd.read_csv(\"Iris.csv\")\n",
        "\n",
        "#Preparing X and Y\n",
        "\n",
        "X = df.drop('Id', axis=1)\n",
        "X = X.drop('Species', axis=1)\n",
        "Y = df['Species']\n",
        "print(X)\n",
        "print(Y)"
      ],
      "metadata": {
        "colab": {
          "base_uri": "https://localhost:8080/"
        },
        "id": "YIQUnJtctcel",
        "outputId": "88651c1e-6037-479a-8cf7-a9cdc104ea97"
      },
      "execution_count": 47,
      "outputs": [
        {
          "output_type": "stream",
          "name": "stdout",
          "text": [
            "     SepalLengthCm  SepalWidthCm  PetalLengthCm  PetalWidthCm\n",
            "0              5.1           3.5            1.4           0.2\n",
            "1              4.9           3.0            1.4           0.2\n",
            "2              4.7           3.2            1.3           0.2\n",
            "3              4.6           3.1            1.5           0.2\n",
            "4              5.0           3.6            1.4           0.2\n",
            "..             ...           ...            ...           ...\n",
            "145            6.7           3.0            5.2           2.3\n",
            "146            6.3           2.5            5.0           1.9\n",
            "147            6.5           3.0            5.2           2.0\n",
            "148            6.2           3.4            5.4           2.3\n",
            "149            5.9           3.0            5.1           1.8\n",
            "\n",
            "[150 rows x 4 columns]\n",
            "0         Iris-setosa\n",
            "1         Iris-setosa\n",
            "2         Iris-setosa\n",
            "3         Iris-setosa\n",
            "4         Iris-setosa\n",
            "            ...      \n",
            "145    Iris-virginica\n",
            "146    Iris-virginica\n",
            "147    Iris-virginica\n",
            "148    Iris-virginica\n",
            "149    Iris-virginica\n",
            "Name: Species, Length: 150, dtype: object\n"
          ]
        }
      ]
    },
    {
      "cell_type": "code",
      "source": [
        "print(df.isnull().sum())"
      ],
      "metadata": {
        "colab": {
          "base_uri": "https://localhost:8080/"
        },
        "id": "fBUrwkcetuTU",
        "outputId": "92e2b76b-365f-4855-b70d-1d0638fd6622"
      },
      "execution_count": 48,
      "outputs": [
        {
          "output_type": "stream",
          "name": "stdout",
          "text": [
            "Id               0\n",
            "SepalLengthCm    0\n",
            "SepalWidthCm     0\n",
            "PetalLengthCm    0\n",
            "PetalWidthCm     0\n",
            "Species          0\n",
            "dtype: int64\n"
          ]
        }
      ]
    },
    {
      "cell_type": "code",
      "source": [
        "from matplotlib import pyplot as plt\n",
        "import seaborn as sns\n",
        "sns.boxplot(df['SepalLengthCm'])\n",
        "plt.show()"
      ],
      "metadata": {
        "colab": {
          "base_uri": "https://localhost:8080/",
          "height": 411
        },
        "id": "97zuj-Wctynw",
        "outputId": "b899549f-8f41-4117-dc1a-ec0518ba4cff"
      },
      "execution_count": 49,
      "outputs": [
        {
          "output_type": "display_data",
          "data": {
            "text/plain": [
              "<Figure size 640x480 with 1 Axes>"
            ],
            "image/png": "[encoded data removed]"
          },
          "metadata": {}
        }
      ]
    },
    {
      "cell_type": "code",
      "source": [
        "#Dealing with Outliers using Interquantile Range\n",
        "print(df['SepalLengthCm'])\n",
        "Q1 = df['SepalLengthCm'].quantile(0.25)\n",
        "Q3 = df['SepalLengthCm'].quantile(0.75)\n",
        "\n",
        "IQR = Q3 - Q1\n",
        "print(IQR)\n",
        "\n",
        "upper = Q3 + 1.5*IQR\n",
        "lower = Q1 - 1.5*IQR\n",
        "\n",
        "print(upper)\n",
        "print(lower)\n",
        "\n",
        "out1=df[df['SepalLengthCm'] < lower].values\n",
        "out2=df[df['SepalLengthCm'] > upper].values\n",
        "\n",
        "df['SepalLengthCm'].replace(out1,lower,inplace=True)\n",
        "df['SepalLengthCm'].replace(out2,upper,inplace=True)\n",
        "\n",
        "print(df['SepalLengthCm'])"
      ],
      "metadata": {
        "colab": {
          "base_uri": "https://localhost:8080/"
        },
        "id": "FJTKVOTyuSZz",
        "outputId": "4d6d217f-5e22-418a-e68f-3ef46fb61738"
      },
      "execution_count": 50,
      "outputs": [
        {
          "output_type": "stream",
          "name": "stdout",
          "text": [
            "0      5.1\n",
            "1      4.9\n",
            "2      4.7\n",
            "3      4.6\n",
            "4      5.0\n",
            "      ... \n",
            "145    6.7\n",
            "146    6.3\n",
            "147    6.5\n",
            "148    6.2\n",
            "149    5.9\n",
            "Name: SepalLengthCm, Length: 150, dtype: float64\n",
            "1.3000000000000007\n",
            "8.350000000000001\n",
            "3.1499999999999986\n",
            "0      5.1\n",
            "1      4.9\n",
            "2      4.7\n",
            "3      4.6\n",
            "4      5.0\n",
            "      ... \n",
            "145    6.7\n",
            "146    6.3\n",
            "147    6.5\n",
            "148    6.2\n",
            "149    5.9\n",
            "Name: SepalLengthCm, Length: 150, dtype: float64\n"
          ]
        }
      ]
    },
    {
      "cell_type": "code",
      "source": [
        "#Numerical to Categorical\n",
        "\n",
        "from sklearn.preprocessing import LabelEncoder\n",
        "df['SepalLengthCm']=pd.cut(df['SepalLengthCm'],3,labels=['0','1','2'])\n",
        "df['SepalWidthCm']=pd.cut(df['SepalWidthCm'],3,labels=['0','1','2'])\n",
        "df['PetalLengthCm']=pd.cut(df['PetalLengthCm'],3,labels=['0','1','2'])\n",
        "df['PetalWidthCm']=pd.cut(df['PetalWidthCm'],3,labels=['0','1','2'])"
      ],
      "metadata": {
        "id": "7ihYhWnJueHL"
      },
      "execution_count": 51,
      "outputs": []
    },
    {
      "cell_type": "code",
      "source": [
        "print(df)"
      ],
      "metadata": {
        "colab": {
          "base_uri": "https://localhost:8080/"
        },
        "id": "5iUldsKQutJ6",
        "outputId": "f7427cda-1d82-43ea-db03-801b43c5c4a5"
      },
      "execution_count": 52,
      "outputs": [
        {
          "output_type": "stream",
          "name": "stdout",
          "text": [
            "      Id SepalLengthCm SepalWidthCm PetalLengthCm PetalWidthCm         Species\n",
            "0      1             0            1             0            0     Iris-setosa\n",
            "1      2             0            1             0            0     Iris-setosa\n",
            "2      3             0            1             0            0     Iris-setosa\n",
            "3      4             0            1             0            0     Iris-setosa\n",
            "4      5             0            1             0            0     Iris-setosa\n",
            "..   ...           ...          ...           ...          ...             ...\n",
            "145  146             1            1             2            2  Iris-virginica\n",
            "146  147             1            0             2            2  Iris-virginica\n",
            "147  148             1            1             2            2  Iris-virginica\n",
            "148  149             1            1             2            2  Iris-virginica\n",
            "149  150             1            1             2            2  Iris-virginica\n",
            "\n",
            "[150 rows x 6 columns]\n"
          ]
        }
      ]
    },
    {
      "cell_type": "code",
      "source": [
        "X = df.drop('Id', axis=1)\n",
        "X = X.drop('Species', axis=1)\n",
        "Y = df['Species']\n",
        "print(Y)\n",
        "le=LabelEncoder()\n",
        "le.fit(Y)\n",
        "Y = le.transform(Y)\n",
        "print(Y)"
      ],
      "metadata": {
        "colab": {
          "base_uri": "https://localhost:8080/"
        },
        "id": "OmRpqFCUvfXv",
        "outputId": "3992258c-c617-4a10-a459-6054de4ccbb8"
      },
      "execution_count": 53,
      "outputs": [
        {
          "output_type": "stream",
          "name": "stdout",
          "text": [
            "0         Iris-setosa\n",
            "1         Iris-setosa\n",
            "2         Iris-setosa\n",
            "3         Iris-setosa\n",
            "4         Iris-setosa\n",
            "            ...      \n",
            "145    Iris-virginica\n",
            "146    Iris-virginica\n",
            "147    Iris-virginica\n",
            "148    Iris-virginica\n",
            "149    Iris-virginica\n",
            "Name: Species, Length: 150, dtype: object\n",
            "[0 0 0 0 0 0 0 0 0 0 0 0 0 0 0 0 0 0 0 0 0 0 0 0 0 0 0 0 0 0 0 0 0 0 0 0 0\n",
            " 0 0 0 0 0 0 0 0 0 0 0 0 0 1 1 1 1 1 1 1 1 1 1 1 1 1 1 1 1 1 1 1 1 1 1 1 1\n",
            " 1 1 1 1 1 1 1 1 1 1 1 1 1 1 1 1 1 1 1 1 1 1 1 1 1 1 2 2 2 2 2 2 2 2 2 2 2\n",
            " 2 2 2 2 2 2 2 2 2 2 2 2 2 2 2 2 2 2 2 2 2 2 2 2 2 2 2 2 2 2 2 2 2 2 2 2 2\n",
            " 2 2]\n"
          ]
        }
      ]
    },
    {
      "cell_type": "code",
      "source": [
        "#Categorical to Numerical\n",
        "le=LabelEncoder()\n",
        "le.fit(Y)\n",
        "Y = le.transform(Y)"
      ],
      "metadata": {
        "id": "KhmaUDRxvkmm"
      },
      "execution_count": 54,
      "outputs": []
    },
    {
      "cell_type": "code",
      "source": [
        "from imblearn.over_sampling import SMOTE                 #Synthetic Minority Oversampling (SMOTE) oversampling\n",
        "sms=SMOTE(random_state=0)\n",
        "X, Y=sms.fit_resample(X,Y)"
      ],
      "metadata": {
        "id": "hkUMw0oXvr0V"
      },
      "execution_count": 55,
      "outputs": []
    },
    {
      "cell_type": "code",
      "source": [
        "# Feature Selection 1\n",
        "\n",
        "from sklearn.feature_selection import SelectKBest\n",
        "from sklearn.feature_selection import chi2\n",
        "\n",
        "bestfeatures = SelectKBest(score_func=chi2, k='all')\n",
        "fit = bestfeatures.fit(X,Y)\n",
        "dfscores = pd.DataFrame(fit.scores_)\n",
        "dfcolumns = pd.DataFrame(X.columns)\n",
        "featuresScores = pd.concat([dfcolumns, dfscores], axis=1)\n",
        "featuresScores.columns = ['Specs', 'Score']\n",
        "\n",
        "print(featuresScores)"
      ],
      "metadata": {
        "colab": {
          "base_uri": "https://localhost:8080/"
        },
        "id": "HRHLQKsywoeX",
        "outputId": "83112e2b-ee72-4134-9f12-fc9cec3bb6d3"
      },
      "execution_count": 56,
      "outputs": [
        {
          "output_type": "stream",
          "name": "stdout",
          "text": [
            "           Specs      Score\n",
            "0  SepalLengthCm  54.648649\n",
            "1   SepalWidthCm  20.864407\n",
            "2  PetalLengthCm  91.123288\n",
            "3   PetalWidthCm  92.890411\n"
          ]
        }
      ]
    },
    {
      "cell_type": "code",
      "source": [
        "#Feature Selection 2\n",
        "\n",
        "from sklearn.ensemble import ExtraTreesClassifier\n",
        "import matplotlib.pyplot as plt\n",
        "\n",
        "model = ExtraTreesClassifier()\n",
        "model.fit(X,Y)\n",
        "print(model.feature_importances_)\n",
        "\n",
        "feat_importance = pd.Series(model.feature_importances_, index=X.columns)\n",
        "feat_importance.nlargest(4).plot(kind='barh')\n",
        "plt.show()"
      ],
      "metadata": {
        "colab": {
          "base_uri": "https://localhost:8080/",
          "height": 447
        },
        "id": "dxypKH3TwrkV",
        "outputId": "9ffc7d2d-d98e-4d0d-f2cf-60c31fc048aa"
      },
      "execution_count": 57,
      "outputs": [
        {
          "output_type": "stream",
          "name": "stdout",
          "text": [
            "[0.06943775 0.02372569 0.34927892 0.55755764]\n"
          ]
        },
        {
          "output_type": "display_data",
          "data": {
            "text/plain": [
              "<Figure size 640x480 with 1 Axes>"
            ],
            "image/png": "[encoded data removed]"
          },
          "metadata": {}
        }
      ]
    },
    {
      "cell_type": "code",
      "source": [
        "#Principal Component Analysis\n",
        "\n",
        "from sklearn.decomposition import PCA\n",
        "from sklearn.linear_model import LogisticRegression\n",
        "from sklearn.model_selection import train_test_split\n",
        "from sklearn.metrics import accuracy_score\n",
        "\n",
        "logr=LogisticRegression()\n",
        "pca=PCA(n_components=2)\n",
        "\n",
        "X = df.drop('Id', axis=1)\n",
        "X = X.drop('Species', axis=1)\n",
        "Y = df['Species']\n",
        "\n",
        "pca.fit(X)\n",
        "X=pca.transform(X)\n",
        "\n",
        "print(X)\n",
        "\n",
        "X_train, X_test, y_train, y_test = train_test_split(X,Y,random_state=0,test_size=0.3)\n",
        "\n",
        "logr.fit(X_train,y_train)\n",
        "\n",
        "y_pred=logr.predict(X_test)\n",
        "print(accuracy_score(y_test,y_pred))"
      ],
      "metadata": {
        "colab": {
          "base_uri": "https://localhost:8080/"
        },
        "id": "UYgJhwJnxNIb",
        "outputId": "715d39a4-422a-4752-b657-fef2bc589364"
      },
      "execution_count": 58,
      "outputs": [
        {
          "output_type": "stream",
          "name": "stdout",
          "text": [
            "[[-1.57432707 -0.09529009]\n",
            " [-1.57432707 -0.09529009]\n",
            " [-1.57432707 -0.09529009]\n",
            " [-1.57432707 -0.09529009]\n",
            " [-1.57432707 -0.09529009]\n",
            " [-1.76935658  0.83331324]\n",
            " [-1.57432707 -0.09529009]\n",
            " [-1.57432707 -0.09529009]\n",
            " [-1.57432707 -0.09529009]\n",
            " [-1.57432707 -0.09529009]\n",
            " [-1.76935658  0.83331324]\n",
            " [-1.57432707 -0.09529009]\n",
            " [-1.57432707 -0.09529009]\n",
            " [-1.57432707 -0.09529009]\n",
            " [-1.31321774  1.20402635]\n",
            " [-1.31321774  1.20402635]\n",
            " [-1.76935658  0.83331324]\n",
            " [-1.57432707 -0.09529009]\n",
            " [-1.31321774  1.20402635]\n",
            " [-1.76935658  0.83331324]\n",
            " [-1.57432707 -0.09529009]\n",
            " [-1.76935658  0.83331324]\n",
            " [-1.57432707 -0.09529009]\n",
            " [-1.57432707 -0.09529009]\n",
            " [-1.57432707 -0.09529009]\n",
            " [-1.57432707 -0.09529009]\n",
            " [-1.57432707 -0.09529009]\n",
            " [-1.57432707 -0.09529009]\n",
            " [-1.57432707 -0.09529009]\n",
            " [-1.57432707 -0.09529009]\n",
            " [-1.57432707 -0.09529009]\n",
            " [-1.57432707 -0.09529009]\n",
            " [-1.76935658  0.83331324]\n",
            " [-1.76935658  0.83331324]\n",
            " [-1.57432707 -0.09529009]\n",
            " [-1.57432707 -0.09529009]\n",
            " [-1.57432707 -0.09529009]\n",
            " [-1.57432707 -0.09529009]\n",
            " [-1.57432707 -0.09529009]\n",
            " [-1.57432707 -0.09529009]\n",
            " [-1.57432707 -0.09529009]\n",
            " [-1.37929755 -1.02389342]\n",
            " [-1.57432707 -0.09529009]\n",
            " [-1.57432707 -0.09529009]\n",
            " [-1.76935658  0.83331324]\n",
            " [-1.57432707 -0.09529009]\n",
            " [-1.76935658  0.83331324]\n",
            " [-1.57432707 -0.09529009]\n",
            " [-1.76935658  0.83331324]\n",
            " [-1.57432707 -0.09529009]\n",
            " [ 0.56587325  0.66572287]\n",
            " [ 0.10973441  0.29500976]\n",
            " [ 0.56587325  0.66572287]\n",
            " [-0.15137492 -1.00430667]\n",
            " [ 0.30476392 -0.63359357]\n",
            " [ 0.30476392 -0.63359357]\n",
            " [ 0.10973441  0.29500976]\n",
            " [-0.15137492 -1.00430667]\n",
            " [ 0.10973441  0.29500976]\n",
            " [-0.15137492 -1.00430667]\n",
            " [-0.15137492 -1.00430667]\n",
            " [ 0.10973441  0.29500976]\n",
            " [ 0.30476392 -0.63359357]\n",
            " [ 0.10973441  0.29500976]\n",
            " [ 0.10973441  0.29500976]\n",
            " [ 0.10973441  0.29500976]\n",
            " [ 0.10973441  0.29500976]\n",
            " [ 0.30476392 -0.63359357]\n",
            " [ 0.30476392 -0.63359357]\n",
            " [ 0.30476392 -0.63359357]\n",
            " [ 0.72230767  0.31096051]\n",
            " [ 0.30476392 -0.63359357]\n",
            " [ 0.30476392 -0.63359357]\n",
            " [ 0.30476392 -0.63359357]\n",
            " [ 0.10973441  0.29500976]\n",
            " [ 0.10973441  0.29500976]\n",
            " [ 0.76090276 -0.26288046]\n",
            " [ 0.72508377  0.29864577]\n",
            " [ 0.10973441  0.29500976]\n",
            " [ 0.30476392 -0.63359357]\n",
            " [-0.15137492 -1.00430667]\n",
            " [-0.15137492 -1.00430667]\n",
            " [ 0.30476392 -0.63359357]\n",
            " [ 0.92011329 -0.62995756]\n",
            " [-0.34640444 -0.07570334]\n",
            " [ 0.10973441  0.29500976]\n",
            " [ 0.10973441  0.29500976]\n",
            " [ 0.30476392 -0.63359357]\n",
            " [ 0.10973441  0.29500976]\n",
            " [-0.15137492 -1.00430667]\n",
            " [-0.15137492 -1.00430667]\n",
            " [ 0.10973441  0.29500976]\n",
            " [ 0.30476392 -0.63359357]\n",
            " [-0.15137492 -1.00430667]\n",
            " [ 0.30476392 -0.63359357]\n",
            " [ 0.10973441  0.29500976]\n",
            " [ 0.10973441  0.29500976]\n",
            " [ 0.10973441  0.29500976]\n",
            " [-0.15137492 -1.00430667]\n",
            " [ 0.30476392 -0.63359357]\n",
            " [ 1.33765703  0.31459652]\n",
            " [ 1.53268655 -0.61400682]\n",
            " [ 1.79379588  0.68530962]\n",
            " [ 1.33765703  0.31459652]\n",
            " [ 1.33765703  0.31459652]\n",
            " [ 1.79379588  0.68530962]\n",
            " [-0.15137492 -1.00430667]\n",
            " [ 1.79379588  0.68530962]\n",
            " [ 1.53268655 -0.61400682]\n",
            " [ 1.79379588  0.68530962]\n",
            " [ 1.33765703  0.31459652]\n",
            " [ 1.53268655 -0.61400682]\n",
            " [ 1.79379588  0.68530962]\n",
            " [ 1.53268655 -0.61400682]\n",
            " [ 1.53268655 -0.61400682]\n",
            " [ 1.33765703  0.31459652]\n",
            " [ 1.33765703  0.31459652]\n",
            " [ 1.59876636  1.61391295]\n",
            " [ 1.98882539 -0.24329371]\n",
            " [ 0.92011329 -0.62995756]\n",
            " [ 1.79379588  0.68530962]\n",
            " [ 0.91733719 -0.61764282]\n",
            " [ 1.98882539 -0.24329371]\n",
            " [ 0.91733719 -0.61764282]\n",
            " [ 1.33765703  0.31459652]\n",
            " [ 1.79379588  0.68530962]\n",
            " [ 0.91733719 -0.61764282]\n",
            " [ 0.72230767  0.31096051]\n",
            " [ 1.53268655 -0.61400682]\n",
            " [ 1.18122261  0.66935887]\n",
            " [ 1.98882539 -0.24329371]\n",
            " [ 1.59876636  1.61391295]\n",
            " [ 1.53268655 -0.61400682]\n",
            " [ 0.92011329 -0.62995756]\n",
            " [ 0.92011329 -0.62995756]\n",
            " [ 1.79379588  0.68530962]\n",
            " [ 1.33765703  0.31459652]\n",
            " [ 1.33765703  0.31459652]\n",
            " [ 0.72230767  0.31096051]\n",
            " [ 1.79379588  0.68530962]\n",
            " [ 1.33765703  0.31459652]\n",
            " [ 1.79379588  0.68530962]\n",
            " [ 1.53268655 -0.61400682]\n",
            " [ 1.79379588  0.68530962]\n",
            " [ 1.33765703  0.31459652]\n",
            " [ 1.33765703  0.31459652]\n",
            " [ 1.53268655 -0.61400682]\n",
            " [ 1.33765703  0.31459652]\n",
            " [ 1.33765703  0.31459652]\n",
            " [ 1.33765703  0.31459652]]\n",
            "0.9333333333333333\n"
          ]
        }
      ]
    },
    {
      "cell_type": "code",
      "execution_count": 60,
      "metadata": {
        "id": "o4iXgNMyo6SJ"
      },
      "outputs": [],
      "source": [
        "import pandas as pd\n",
        "from sklearn.model_selection import train_test_split\n",
        "from sklearn.metrics import accuracy_score\n",
        "from sklearn.metrics import classification_report\n",
        "from sklearn.metrics import confusion_matrix"
      ]
    },
    {
      "cell_type": "code",
      "source": [
        "df=pd.read_csv(\"Iris.csv\")\n",
        "print(df)"
      ],
      "metadata": {
        "colab": {
          "base_uri": "https://localhost:8080/"
        },
        "id": "d0eylalfpS0h",
        "outputId": "c3768d33-29cf-476c-a672-c07aba02c27e"
      },
      "execution_count": 61,
      "outputs": [
        {
          "output_type": "stream",
          "name": "stdout",
          "text": [
            "      Id  SepalLengthCm  SepalWidthCm  PetalLengthCm  PetalWidthCm  \\\n",
            "0      1            5.1           3.5            1.4           0.2   \n",
            "1      2            4.9           3.0            1.4           0.2   \n",
            "2      3            4.7           3.2            1.3           0.2   \n",
            "3      4            4.6           3.1            1.5           0.2   \n",
            "4      5            5.0           3.6            1.4           0.2   \n",
            "..   ...            ...           ...            ...           ...   \n",
            "145  146            6.7           3.0            5.2           2.3   \n",
            "146  147            6.3           2.5            5.0           1.9   \n",
            "147  148            6.5           3.0            5.2           2.0   \n",
            "148  149            6.2           3.4            5.4           2.3   \n",
            "149  150            5.9           3.0            5.1           1.8   \n",
            "\n",
            "            Species  \n",
            "0       Iris-setosa  \n",
            "1       Iris-setosa  \n",
            "2       Iris-setosa  \n",
            "3       Iris-setosa  \n",
            "4       Iris-setosa  \n",
            "..              ...  \n",
            "145  Iris-virginica  \n",
            "146  Iris-virginica  \n",
            "147  Iris-virginica  \n",
            "148  Iris-virginica  \n",
            "149  Iris-virginica  \n",
            "\n",
            "[150 rows x 6 columns]\n"
          ]
        }
      ]
    },
    {
      "cell_type": "code",
      "source": [
        "x = df.drop('Id', axis=1)\n",
        "x = x.drop('Species', axis=1)\n",
        "y = df['Species']  # Target value"
      ],
      "metadata": {
        "id": "iPJWvsJ-pciK"
      },
      "execution_count": 62,
      "outputs": []
    },
    {
      "cell_type": "code",
      "source": [
        "print(\"Features:\\n\")\n",
        "print(x)\n",
        "\n",
        "print(\"Target\\n\")\n",
        "print(y)"
      ],
      "metadata": {
        "colab": {
          "base_uri": "https://localhost:8080/"
        },
        "id": "0eiQof2eqMcs",
        "outputId": "438bfdb9-9f94-4bf1-b74d-011ab2f9d9e9"
      },
      "execution_count": 63,
      "outputs": [
        {
          "output_type": "stream",
          "name": "stdout",
          "text": [
            "Features:\n",
            "\n",
            "     SepalLengthCm  SepalWidthCm  PetalLengthCm  PetalWidthCm\n",
            "0              5.1           3.5            1.4           0.2\n",
            "1              4.9           3.0            1.4           0.2\n",
            "2              4.7           3.2            1.3           0.2\n",
            "3              4.6           3.1            1.5           0.2\n",
            "4              5.0           3.6            1.4           0.2\n",
            "..             ...           ...            ...           ...\n",
            "145            6.7           3.0            5.2           2.3\n",
            "146            6.3           2.5            5.0           1.9\n",
            "147            6.5           3.0            5.2           2.0\n",
            "148            6.2           3.4            5.4           2.3\n",
            "149            5.9           3.0            5.1           1.8\n",
            "\n",
            "[150 rows x 4 columns]\n",
            "Target\n",
            "\n",
            "0         Iris-setosa\n",
            "1         Iris-setosa\n",
            "2         Iris-setosa\n",
            "3         Iris-setosa\n",
            "4         Iris-setosa\n",
            "            ...      \n",
            "145    Iris-virginica\n",
            "146    Iris-virginica\n",
            "147    Iris-virginica\n",
            "148    Iris-virginica\n",
            "149    Iris-virginica\n",
            "Name: Species, Length: 150, dtype: object\n"
          ]
        }
      ]
    },
    {
      "cell_type": "code",
      "source": [
        "print(\"Splitting the data:\\n\")\n",
        "X_train, X_test, y_train, y_test = train_test_split(x,y,random_state=1,test_size=0.3)\n",
        "print(\"Training data of x:\\n\",X_train)\n",
        "print(\"Testing data of x:\\n\",X_test)\n",
        "print(\"Training data of y:\\n\",y_train)\n",
        "print(\"Testing data of y \\n\",y_test)"
      ],
      "metadata": {
        "colab": {
          "base_uri": "https://localhost:8080/"
        },
        "id": "15nAedZQqR4g",
        "outputId": "2daf73db-abfc-4ef1-ba8c-44dd8e88f96b"
      },
      "execution_count": 64,
      "outputs": [
        {
          "output_type": "stream",
          "name": "stdout",
          "text": [
            "Splitting the data:\n",
            "\n",
            "Training data of x:\n",
            "      SepalLengthCm  SepalWidthCm  PetalLengthCm  PetalWidthCm\n",
            "118            7.7           2.6            6.9           2.3\n",
            "18             5.7           3.8            1.7           0.3\n",
            "4              5.0           3.6            1.4           0.2\n",
            "45             4.8           3.0            1.4           0.3\n",
            "59             5.2           2.7            3.9           1.4\n",
            "..             ...           ...            ...           ...\n",
            "133            6.3           2.8            5.1           1.5\n",
            "137            6.4           3.1            5.5           1.8\n",
            "72             6.3           2.5            4.9           1.5\n",
            "140            6.7           3.1            5.6           2.4\n",
            "37             4.9           3.1            1.5           0.1\n",
            "\n",
            "[105 rows x 4 columns]\n",
            "Testing data of x:\n",
            "      SepalLengthCm  SepalWidthCm  PetalLengthCm  PetalWidthCm\n",
            "14             5.8           4.0            1.2           0.2\n",
            "98             5.1           2.5            3.0           1.1\n",
            "75             6.6           3.0            4.4           1.4\n",
            "16             5.4           3.9            1.3           0.4\n",
            "131            7.9           3.8            6.4           2.0\n",
            "56             6.3           3.3            4.7           1.6\n",
            "141            6.9           3.1            5.1           2.3\n",
            "44             5.1           3.8            1.9           0.4\n",
            "29             4.7           3.2            1.6           0.2\n",
            "120            6.9           3.2            5.7           2.3\n",
            "94             5.6           2.7            4.2           1.3\n",
            "5              5.4           3.9            1.7           0.4\n",
            "102            7.1           3.0            5.9           2.1\n",
            "51             6.4           3.2            4.5           1.5\n",
            "78             6.0           2.9            4.5           1.5\n",
            "42             4.4           3.2            1.3           0.2\n",
            "92             5.8           2.6            4.0           1.2\n",
            "66             5.6           3.0            4.5           1.5\n",
            "31             5.4           3.4            1.5           0.4\n",
            "35             5.0           3.2            1.2           0.2\n",
            "90             5.5           2.6            4.4           1.2\n",
            "84             5.4           3.0            4.5           1.5\n",
            "77             6.7           3.0            5.0           1.7\n",
            "40             5.0           3.5            1.3           0.3\n",
            "125            7.2           3.2            6.0           1.8\n",
            "99             5.7           2.8            4.1           1.3\n",
            "33             5.5           4.2            1.4           0.2\n",
            "19             5.1           3.8            1.5           0.3\n",
            "73             6.1           2.8            4.7           1.2\n",
            "146            6.3           2.5            5.0           1.9\n",
            "91             6.1           3.0            4.6           1.4\n",
            "135            7.7           3.0            6.1           2.3\n",
            "69             5.6           2.5            3.9           1.1\n",
            "128            6.4           2.8            5.6           2.1\n",
            "114            5.8           2.8            5.1           2.4\n",
            "48             5.3           3.7            1.5           0.2\n",
            "53             5.5           2.3            4.0           1.3\n",
            "28             5.2           3.4            1.4           0.2\n",
            "54             6.5           2.8            4.6           1.5\n",
            "108            6.7           2.5            5.8           1.8\n",
            "112            6.8           3.0            5.5           2.1\n",
            "17             5.1           3.5            1.4           0.3\n",
            "119            6.0           2.2            5.0           1.5\n",
            "103            6.3           2.9            5.6           1.8\n",
            "58             6.6           2.9            4.6           1.3\n",
            "Training data of y:\n",
            " 118     Iris-virginica\n",
            "18         Iris-setosa\n",
            "4          Iris-setosa\n",
            "45         Iris-setosa\n",
            "59     Iris-versicolor\n",
            "            ...       \n",
            "133     Iris-virginica\n",
            "137     Iris-virginica\n",
            "72     Iris-versicolor\n",
            "140     Iris-virginica\n",
            "37         Iris-setosa\n",
            "Name: Species, Length: 105, dtype: object\n",
            "Testing data of y \n",
            " 14         Iris-setosa\n",
            "98     Iris-versicolor\n",
            "75     Iris-versicolor\n",
            "16         Iris-setosa\n",
            "131     Iris-virginica\n",
            "56     Iris-versicolor\n",
            "141     Iris-virginica\n",
            "44         Iris-setosa\n",
            "29         Iris-setosa\n",
            "120     Iris-virginica\n",
            "94     Iris-versicolor\n",
            "5          Iris-setosa\n",
            "102     Iris-virginica\n",
            "51     Iris-versicolor\n",
            "78     Iris-versicolor\n",
            "42         Iris-setosa\n",
            "92     Iris-versicolor\n",
            "66     Iris-versicolor\n",
            "31         Iris-setosa\n",
            "35         Iris-setosa\n",
            "90     Iris-versicolor\n",
            "84     Iris-versicolor\n",
            "77     Iris-versicolor\n",
            "40         Iris-setosa\n",
            "125     Iris-virginica\n",
            "99     Iris-versicolor\n",
            "33         Iris-setosa\n",
            "19         Iris-setosa\n",
            "73     Iris-versicolor\n",
            "146     Iris-virginica\n",
            "91     Iris-versicolor\n",
            "135     Iris-virginica\n",
            "69     Iris-versicolor\n",
            "128     Iris-virginica\n",
            "114     Iris-virginica\n",
            "48         Iris-setosa\n",
            "53     Iris-versicolor\n",
            "28         Iris-setosa\n",
            "54     Iris-versicolor\n",
            "108     Iris-virginica\n",
            "112     Iris-virginica\n",
            "17         Iris-setosa\n",
            "119     Iris-virginica\n",
            "103     Iris-virginica\n",
            "58     Iris-versicolor\n",
            "Name: Species, dtype: object\n"
          ]
        }
      ]
    },
    {
      "cell_type": "code",
      "source": [
        "from sklearn.linear_model import LogisticRegression\n",
        "logr = LogisticRegression(max_iter=1000)\n",
        "logr.fit(X_train, y_train)"
      ],
      "metadata": {
        "colab": {
          "base_uri": "https://localhost:8080/",
          "height": 74
        },
        "id": "v_u__cAAqf0b",
        "outputId": "a505943a-3b64-4867-d183-196375c0f6fc"
      },
      "execution_count": 65,
      "outputs": [
        {
          "output_type": "execute_result",
          "data": {
            "text/plain": [
              "LogisticRegression(max_iter=1000)"
            ],
            "text/html": [
              "<style>#sk-container-id-5 {color: black;background-color: white;}#sk-container-id-5 pre{padding: 0;}#sk-container-id-5 div.sk-toggleable {background-color: white;}#sk-container-id-5 label.sk-toggleable__label {cursor: pointer;display: block;width: 100%;margin-bottom: 0;padding: 0.3em;box-sizing: border-box;text-align: center;}#sk-container-id-5 label.sk-toggleable__label-arrow:before {content: \"▸\";float: left;margin-right: 0.25em;color: #696969;}#sk-container-id-5 label.sk-toggleable__label-arrow:hover:before {color: black;}#sk-container-id-5 div.sk-estimator:hover label.sk-toggleable__label-arrow:before {color: black;}#sk-container-id-5 div.sk-toggleable__content {max-height: 0;max-width: 0;overflow: hidden;text-align: left;background-color: #f0f8ff;}#sk-container-id-5 div.sk-toggleable__content pre {margin: 0.2em;color: black;border-radius: 0.25em;background-color: #f0f8ff;}#sk-container-id-5 input.sk-toggleable__control:checked~div.sk-toggleable__content {max-height: 200px;max-width: 100%;overflow: auto;}#sk-container-id-5 input.sk-toggleable__control:checked~label.sk-toggleable__label-arrow:before {content: \"▾\";}#sk-container-id-5 div.sk-estimator input.sk-toggleable__control:checked~label.sk-toggleable__label {background-color: #d4ebff;}#sk-container-id-5 div.sk-label input.sk-toggleable__control:checked~label.sk-toggleable__label {background-color: #d4ebff;}#sk-container-id-5 input.sk-hidden--visually {border: 0;clip: rect(1px 1px 1px 1px);clip: rect(1px, 1px, 1px, 1px);height: 1px;margin: -1px;overflow: hidden;padding: 0;position: absolute;width: 1px;}#sk-container-id-5 div.sk-estimator {font-family: monospace;background-color: #f0f8ff;border: 1px dotted black;border-radius: 0.25em;box-sizing: border-box;margin-bottom: 0.5em;}#sk-container-id-5 div.sk-estimator:hover {background-color: #d4ebff;}#sk-container-id-5 div.sk-parallel-item::after {content: \"\";width: 100%;border-bottom: 1px solid gray;flex-grow: 1;}#sk-container-id-5 div.sk-label:hover label.sk-toggleable__label {background-color: #d4ebff;}#sk-container-id-5 div.sk-serial::before {content: \"\";position: absolute;border-left: 1px solid gray;box-sizing: border-box;top: 0;bottom: 0;left: 50%;z-index: 0;}#sk-container-id-5 div.sk-serial {display: flex;flex-direction: column;align-items: center;background-color: white;padding-right: 0.2em;padding-left: 0.2em;position: relative;}#sk-container-id-5 div.sk-item {position: relative;z-index: 1;}#sk-container-id-5 div.sk-parallel {display: flex;align-items: stretch;justify-content: center;background-color: white;position: relative;}#sk-container-id-5 div.sk-item::before, #sk-container-id-5 div.sk-parallel-item::before {content: \"\";position: absolute;border-left: 1px solid gray;box-sizing: border-box;top: 0;bottom: 0;left: 50%;z-index: -1;}#sk-container-id-5 div.sk-parallel-item {display: flex;flex-direction: column;z-index: 1;position: relative;background-color: white;}#sk-container-id-5 div.sk-parallel-item:first-child::after {align-self: flex-end;width: 50%;}#sk-container-id-5 div.sk-parallel-item:last-child::after {align-self: flex-start;width: 50%;}#sk-container-id-5 div.sk-parallel-item:only-child::after {width: 0;}#sk-container-id-5 div.sk-dashed-wrapped {border: 1px dashed gray;margin: 0 0.4em 0.5em 0.4em;box-sizing: border-box;padding-bottom: 0.4em;background-color: white;}#sk-container-id-5 div.sk-label label {font-family: monospace;font-weight: bold;display: inline-block;line-height: 1.2em;}#sk-container-id-5 div.sk-label-container {text-align: center;}#sk-container-id-5 div.sk-container {/* jupyter's `normalize.less` sets `[hidden] { display: none; }` but bootstrap.min.css set `[hidden] { display: none !important; }` so we also need the `!important` here to be able to override the default hidden behavior on the sphinx rendered scikit-learn.org. See: https://github.com/scikit-learn/scikit-learn/issues/21755 */display: inline-block !important;position: relative;}#sk-container-id-5 div.sk-text-repr-fallback {display: none;}</style><div id=\"sk-container-id-5\" class=\"sk-top-container\"><div class=\"sk-text-repr-fallback\"><pre>LogisticRegression(max_iter=1000)</pre><b>In a Jupyter environment, please rerun this cell to show the HTML representation or trust the notebook. <br />On GitHub, the HTML representation is unable to render, please try loading this page with nbviewer.org.</b></div><div class=\"sk-container\" hidden><div class=\"sk-item\"><div class=\"sk-estimator sk-toggleable\"><input class=\"sk-toggleable__control sk-hidden--visually\" id=\"sk-estimator-id-5\" type=\"checkbox\" checked><label for=\"sk-estimator-id-5\" class=\"sk-toggleable__label sk-toggleable__label-arrow\">LogisticRegression</label><div class=\"sk-toggleable__content\"><pre>LogisticRegression(max_iter=1000)</pre></div></div></div></div></div>"
            ]
          },
          "metadata": {},
          "execution_count": 65
        }
      ]
    },
    {
      "cell_type": "code",
      "source": [
        "#predicting\n",
        "print(\"Model Predicting:\\n\")\n",
        "y_pred=logr.predict(X_test)"
      ],
      "metadata": {
        "colab": {
          "base_uri": "https://localhost:8080/"
        },
        "id": "JZHmncyQsc4d",
        "outputId": "6258c571-34e8-4ece-9e12-d835288d2152"
      },
      "execution_count": 66,
      "outputs": [
        {
          "output_type": "stream",
          "name": "stdout",
          "text": [
            "Model Predicting:\n",
            "\n"
          ]
        }
      ]
    },
    {
      "cell_type": "code",
      "source": [
        "print(\"Coefficients:\\n\",logr.coef_)\n",
        "print(\"Intercepts:\\n\",logr.intercept_)"
      ],
      "metadata": {
        "colab": {
          "base_uri": "https://localhost:8080/"
        },
        "id": "gTPqkLcQrJ8x",
        "outputId": "72d5006c-9a29-4eeb-ef66-8ae8662cc0c0"
      },
      "execution_count": 67,
      "outputs": [
        {
          "output_type": "stream",
          "name": "stdout",
          "text": [
            "Coefficients:\n",
            " [[-0.43370837  0.75087537 -2.24663518 -0.93746626]\n",
            " [ 0.58146568 -0.53175541 -0.12942375 -0.79361366]\n",
            " [-0.14775731 -0.21911996  2.37605893  1.73107992]]\n",
            "Intercepts:\n",
            " [  9.22114071   1.7003866  -10.92152732]\n"
          ]
        }
      ]
    },
    {
      "cell_type": "code",
      "source": [
        "# 6. Gradient Boosting:\n",
        "import pandas as pd\n",
        "from sklearn.model_selection import train_test_split\n",
        "from sklearn.metrics import accuracy_score\n",
        "from sklearn.ensemble import GradientBoostingClassifier\n",
        "\n",
        "gbm=GradientBoostingClassifier(n_estimators=10)\n",
        "\n",
        "df=pd.read_csv(\"Iris.csv\")\n",
        "print(df)\n",
        "\n",
        "x = df.drop('Id', axis=1)\n",
        "x = x.drop('Species', axis=1)\n",
        "y = df['Species']\n",
        "\n",
        "X_train,X_test,Y_train,Y_test=train_test_split(x,y,random_state=0,test_size=0.2)\n",
        "\n",
        "gbm.fit(X_train,Y_train)\n",
        "\n",
        "y_pred=gbm.predict(X_test)\n",
        "\n",
        "print(\"GBM: \",accuracy_score(Y_test,y_pred))\n",
        "print(\"Classification_report:\\n\",classification_report(Y_test,y_pred))\n",
        "print(\"Confusion matrix:\\n\",confusion_matrix(Y_test,y_pred))"
      ],
      "metadata": {
        "colab": {
          "base_uri": "https://localhost:8080/"
        },
        "id": "hXob9SSNr8WD",
        "outputId": "da164bcf-82ad-423b-d6a0-34aa0d5b9bab"
      },
      "execution_count": 68,
      "outputs": [
        {
          "output_type": "stream",
          "name": "stdout",
          "text": [
            "      Id  SepalLengthCm  SepalWidthCm  PetalLengthCm  PetalWidthCm  \\\n",
            "0      1            5.1           3.5            1.4           0.2   \n",
            "1      2            4.9           3.0            1.4           0.2   \n",
            "2      3            4.7           3.2            1.3           0.2   \n",
            "3      4            4.6           3.1            1.5           0.2   \n",
            "4      5            5.0           3.6            1.4           0.2   \n",
            "..   ...            ...           ...            ...           ...   \n",
            "145  146            6.7           3.0            5.2           2.3   \n",
            "146  147            6.3           2.5            5.0           1.9   \n",
            "147  148            6.5           3.0            5.2           2.0   \n",
            "148  149            6.2           3.4            5.4           2.3   \n",
            "149  150            5.9           3.0            5.1           1.8   \n",
            "\n",
            "            Species  \n",
            "0       Iris-setosa  \n",
            "1       Iris-setosa  \n",
            "2       Iris-setosa  \n",
            "3       Iris-setosa  \n",
            "4       Iris-setosa  \n",
            "..              ...  \n",
            "145  Iris-virginica  \n",
            "146  Iris-virginica  \n",
            "147  Iris-virginica  \n",
            "148  Iris-virginica  \n",
            "149  Iris-virginica  \n",
            "\n",
            "[150 rows x 6 columns]\n",
            "GBM:  1.0\n",
            "Classification_report:\n",
            "                  precision    recall  f1-score   support\n",
            "\n",
            "    Iris-setosa       1.00      1.00      1.00        11\n",
            "Iris-versicolor       1.00      1.00      1.00        13\n",
            " Iris-virginica       1.00      1.00      1.00         6\n",
            "\n",
            "       accuracy                           1.00        30\n",
            "      macro avg       1.00      1.00      1.00        30\n",
            "   weighted avg       1.00      1.00      1.00        30\n",
            "\n",
            "Confusion matrix:\n",
            " [[11  0  0]\n",
            " [ 0 13  0]\n",
            " [ 0  0  6]]\n"
          ]
        }
      ]
    },
    {
      "cell_type": "code",
      "source": [
        "import pandas as pd\n",
        "from matplotlib import pyplot as plt\n",
        "import seaborn as sns"
      ],
      "metadata": {
        "id": "VEYXB_fEtDNo"
      },
      "execution_count": 69,
      "outputs": []
    },
    {
      "cell_type": "code",
      "source": [
        "df=pd.read_csv(\"Iris.csv\")"
      ],
      "metadata": {
        "id": "y5-X4dLMxqzx"
      },
      "execution_count": 70,
      "outputs": []
    },
    {
      "cell_type": "code",
      "source": [
        "#Preparing X and Y\n",
        "\n",
        "X = df.drop('Id', axis=1)\n",
        "X = X.drop('Species', axis=1)\n",
        "Y = df['Species']"
      ],
      "metadata": {
        "id": "ChWgV3sdxv30"
      },
      "execution_count": 71,
      "outputs": []
    },
    {
      "cell_type": "code",
      "source": [
        "#Scatter Plot to find correlations between two continuous variables\n",
        "plt.scatter(df[\"PetalLengthCm\"], df[\"PetalWidthCm\"])\n",
        "plt.title(\"Scatter Plot\")\n",
        "plt.xlabel(\"Petal Length\")\n",
        "plt.ylabel(\"Petal Width\")\n",
        "plt.show()"
      ],
      "metadata": {
        "colab": {
          "base_uri": "https://localhost:8080/",
          "height": 472
        },
        "id": "Mxx_-FDQxytb",
        "outputId": "8e02796d-d29a-4f2c-eda2-0d9840a7b621"
      },
      "execution_count": 72,
      "outputs": [
        {
          "output_type": "display_data",
          "data": {
            "text/plain": [
              "<Figure size 640x480 with 1 Axes>"
            ],
            "image/png": "[encoded data removed]"
          },
          "metadata": {}
        }
      ]
    },
    {
      "cell_type": "code",
      "source": [
        "#Histrogram shows the distribution of a continuous variable.  It can discover the frequency distribution for a single variable in a univariate analysis.\n",
        "plt.hist(df[\"SepalWidthCm\"])\n",
        "plt.title(\"Histogram Plot\")\n",
        "plt.xlabel(\"Sepal Width\")\n",
        "plt.ylabel(\"Frequency\")\n",
        "plt.show()"
      ],
      "metadata": {
        "colab": {
          "base_uri": "https://localhost:8080/",
          "height": 472
        },
        "id": "b7MBG-9qx1aF",
        "outputId": "6a40b380-cb8b-4d49-aa0a-b39309ec95d6"
      },
      "execution_count": 73,
      "outputs": [
        {
          "output_type": "display_data",
          "data": {
            "text/plain": [
              "<Figure size 640x480 with 1 Axes>"
            ],
            "image/png": "[encoded data removed]"
          },
          "metadata": {}
        }
      ]
    },
    {
      "cell_type": "code",
      "source": [
        "#Bar Chart or Bar Plot is used to represent categorical data with vertical or horizontal bars.\n",
        "sns.barplot(df[\"Species\"])\n",
        "plt.title(\"Bar Plot\")\n",
        "plt.show()"
      ],
      "metadata": {
        "colab": {
          "base_uri": "https://localhost:8080/",
          "height": 452
        },
        "id": "nH2fSfXCx4m2",
        "outputId": "262edfef-b020-4197-dcf0-b19837c2ed82"
      },
      "execution_count": 75,
      "outputs": [
        {
          "output_type": "display_data",
          "data": {
            "text/plain": [
              "<Figure size 640x480 with 1 Axes>"
            ],
            "image/png": "[encoded data removed]"
          },
          "metadata": {}
        }
      ]
    },
    {
      "cell_type": "code",
      "source": [
        "#Pie Chart is a type of plot which is used to represent the proportion of each category in categorical data.\n",
        "mylabels = [\"Iris-setosa\", \"Iris-versicolor\", \"Iris-virginica\"]\n",
        "sizes = [50, 50, 50]\n",
        "plt.pie(sizes, labels=mylabels, explode=(0.1, 0.1, 0.1))\n",
        "plt.axis('equal') # without this piechart may appear stretch or compressed, that's why it is used\n",
        "plt.show()"
      ],
      "metadata": {
        "colab": {
          "base_uri": "https://localhost:8080/",
          "height": 406
        },
        "id": "VOVDsr_fx7ij",
        "outputId": "c6a49701-717e-4b41-8a89-55d41f4202b1"
      },
      "execution_count": 76,
      "outputs": [
        {
          "output_type": "display_data",
          "data": {
            "text/plain": [
              "<Figure size 640x480 with 1 Axes>"
            ],
            "image/png": "[encoded data removed]"
          },
          "metadata": {}
        }
      ]
    },
    {
      "cell_type": "code",
      "source": [
        "#Count Plot s similar to a bar plot except that we only pass the X-axis and Y-axis represents explicitly counting the number of occurrences. Each bar represents count for each category of species.\n",
        "sns.countplot(x='Species', data = df)\n",
        "plt.title(\"Count Plot for Species\")\n",
        "plt.show()"
      ],
      "metadata": {
        "colab": {
          "base_uri": "https://localhost:8080/",
          "height": 472
        },
        "id": "q_2VKD2AyCcv",
        "outputId": "7263c943-805b-4874-b56e-468a8da2aa89"
      },
      "execution_count": 77,
      "outputs": [
        {
          "output_type": "display_data",
          "data": {
            "text/plain": [
              "<Figure size 640x480 with 1 Axes>"
            ],
            "image/png": "[encoded data removed]"
          },
          "metadata": {}
        }
      ]
    },
    {
      "cell_type": "code",
      "source": [
        "#Box Plot Boxplot is used to show the distribution of a variable. The box plot is a standardized way of displaying the distribution of data based on the five-number summary: minimum, first quartile, median, third quartile, and maximum.\n",
        "sns.boxplot(x='SepalLengthCm', data = df) #if x horizontal and if y vertical\n",
        "plt.title(\"Box plot showing the distribution of Sepal Length\")\n",
        "plt.show()"
      ],
      "metadata": {
        "colab": {
          "base_uri": "https://localhost:8080/",
          "height": 472
        },
        "id": "nULPwza4yEyE",
        "outputId": "79af3a86-2aea-4b10-9c82-a5621b9829d4"
      },
      "execution_count": 78,
      "outputs": [
        {
          "output_type": "display_data",
          "data": {
            "text/plain": [
              "<Figure size 640x480 with 1 Axes>"
            ],
            "image/png": "[encoded data removed]"
          },
          "metadata": {}
        }
      ]
    },
    {
      "cell_type": "code",
      "source": [
        "import seaborn as sns\n",
        "import matplotlib.pyplot as plt\n",
        "numeric_df = df.select_dtypes(include='number')\n",
        "sns.heatmap(numeric_df.corr())\n",
        "plt.show()"
      ],
      "metadata": {
        "colab": {
          "base_uri": "https://localhost:8080/",
          "height": 531
        },
        "id": "fD7MjEAGyJwt",
        "outputId": "c7053eb8-a4e2-4863-bc34-03ab0679e462"
      },
      "execution_count": 80,
      "outputs": [
        {
          "output_type": "display_data",
          "data": {
            "text/plain": [
              "<Figure size 640x480 with 2 Axes>"
            ],
            "image/png": "[encoded data removed]"
          },
          "metadata": {}
        }
      ]
    }
  ]
}