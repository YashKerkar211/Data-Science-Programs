{
  "nbformat": 4,
  "nbformat_minor": 0,
  "metadata": {
    "colab": {
      "provenance": [],
      "authorship_tag": "ABX9TyOcy1hMTWzwPlEM3HSJLZ0t",
      "include_colab_link": true
    },
    "kernelspec": {
      "name": "python3",
      "display_name": "Python 3"
    },
    "language_info": {
      "name": "python"
    }
  },
  "cells": [
    {
      "cell_type": "markdown",
      "metadata": {
        "id": "view-in-github",
        "colab_type": "text"
      },
      "source": [
        "<a href=\"https://colab.research.google.com/github/YashKerkar211/Data-Science-Programs/blob/main/Case%20Studies/Titanic.ipynb\" target=\"_parent\"><img src=\"https://colab.research.google.com/assets/colab-badge.svg\" alt=\"Open In Colab\"/></a>"
      ]
    },
    {
      "cell_type": "code",
      "execution_count": 43,
      "metadata": {
        "id": "h-Stu-cgV8RF"
      },
      "outputs": [],
      "source": [
        "#1. logistic Regression: giving 97.77% accuracy\n",
        "import pandas as pd\n",
        "from sklearn.linear_model import LogisticRegression\n",
        "from sklearn.model_selection import train_test_split\n",
        "from sklearn.metrics import accuracy_score\n",
        "from sklearn.metrics import classification_report\n",
        "from sklearn.metrics import confusion_matrix\n",
        "from sklearn.impute import SimpleImputer"
      ]
    },
    {
      "cell_type": "code",
      "source": [
        "logr=LogisticRegression()"
      ],
      "metadata": {
        "id": "eyl4l3ZwWG5a"
      },
      "execution_count": 44,
      "outputs": []
    },
    {
      "cell_type": "code",
      "source": [
        "df=pd.read_csv(\"tested.csv\")\n",
        "print(df)"
      ],
      "metadata": {
        "colab": {
          "base_uri": "https://localhost:8080/"
        },
        "id": "BtTQ195jWYRK",
        "outputId": "fd22bb4e-4810-4a83-b7a7-b86bb43fa4b8"
      },
      "execution_count": 45,
      "outputs": [
        {
          "output_type": "stream",
          "name": "stdout",
          "text": [
            "     PassengerId  Survived  Pclass  \\\n",
            "0            892         0       3   \n",
            "1            893         1       3   \n",
            "2            894         0       2   \n",
            "3            895         0       3   \n",
            "4            896         1       3   \n",
            "..           ...       ...     ...   \n",
            "413         1305         0       3   \n",
            "414         1306         1       1   \n",
            "415         1307         0       3   \n",
            "416         1308         0       3   \n",
            "417         1309         0       3   \n",
            "\n",
            "                                             Name     Sex   Age  SibSp  Parch  \\\n",
            "0                                Kelly, Mr. James    male  34.5      0      0   \n",
            "1                Wilkes, Mrs. James (Ellen Needs)  female  47.0      1      0   \n",
            "2                       Myles, Mr. Thomas Francis    male  62.0      0      0   \n",
            "3                                Wirz, Mr. Albert    male  27.0      0      0   \n",
            "4    Hirvonen, Mrs. Alexander (Helga E Lindqvist)  female  22.0      1      1   \n",
            "..                                            ...     ...   ...    ...    ...   \n",
            "413                            Spector, Mr. Woolf    male   NaN      0      0   \n",
            "414                  Oliva y Ocana, Dona. Fermina  female  39.0      0      0   \n",
            "415                  Saether, Mr. Simon Sivertsen    male  38.5      0      0   \n",
            "416                           Ware, Mr. Frederick    male   NaN      0      0   \n",
            "417                      Peter, Master. Michael J    male   NaN      1      1   \n",
            "\n",
            "                 Ticket      Fare Cabin Embarked  \n",
            "0                330911    7.8292   NaN        Q  \n",
            "1                363272    7.0000   NaN        S  \n",
            "2                240276    9.6875   NaN        Q  \n",
            "3                315154    8.6625   NaN        S  \n",
            "4               3101298   12.2875   NaN        S  \n",
            "..                  ...       ...   ...      ...  \n",
            "413           A.5. 3236    8.0500   NaN        S  \n",
            "414            PC 17758  108.9000  C105        C  \n",
            "415  SOTON/O.Q. 3101262    7.2500   NaN        S  \n",
            "416              359309    8.0500   NaN        S  \n",
            "417                2668   22.3583   NaN        C  \n",
            "\n",
            "[418 rows x 12 columns]\n"
          ]
        }
      ]
    },
    {
      "cell_type": "code",
      "source": [
        "imputer = SimpleImputer(strategy='mean')\n",
        "df['Age'] = imputer.fit_transform(df[['Age']])"
      ],
      "metadata": {
        "id": "-5ev1fG3WoK7"
      },
      "execution_count": 46,
      "outputs": []
    },
    {
      "cell_type": "code",
      "source": [
        "print(df.columns)"
      ],
      "metadata": {
        "colab": {
          "base_uri": "https://localhost:8080/"
        },
        "id": "Cr5wg6qmX7Ln",
        "outputId": "5f4ede7d-8775-45b8-f273-874fc112d9ed"
      },
      "execution_count": 47,
      "outputs": [
        {
          "output_type": "stream",
          "name": "stdout",
          "text": [
            "Index(['PassengerId', 'Survived', 'Pclass', 'Name', 'Sex', 'Age', 'SibSp',\n",
            "       'Parch', 'Ticket', 'Fare', 'Cabin', 'Embarked'],\n",
            "      dtype='object')\n"
          ]
        }
      ]
    },
    {
      "cell_type": "code",
      "source": [
        "df.drop(columns=['PassengerId', 'Name', 'Ticket', 'Cabin'], inplace=True)"
      ],
      "metadata": {
        "id": "2YyY_FYeXcQo"
      },
      "execution_count": 48,
      "outputs": []
    },
    {
      "cell_type": "code",
      "source": [
        "print(df.columns)"
      ],
      "metadata": {
        "colab": {
          "base_uri": "https://localhost:8080/"
        },
        "id": "Mah1FwoXY1pE",
        "outputId": "4b05222a-f480-4b53-83fe-0c2fb7400da2"
      },
      "execution_count": 49,
      "outputs": [
        {
          "output_type": "stream",
          "name": "stdout",
          "text": [
            "Index(['Survived', 'Pclass', 'Sex', 'Age', 'SibSp', 'Parch', 'Fare',\n",
            "       'Embarked'],\n",
            "      dtype='object')\n"
          ]
        }
      ]
    },
    {
      "cell_type": "code",
      "source": [
        "# Separate features (X) and target variable (y)\n",
        "X = df.drop('Survived', axis=1)\n",
        "y = df['Survived']"
      ],
      "metadata": {
        "id": "8ltMnFO6Z3eI"
      },
      "execution_count": 50,
      "outputs": []
    },
    {
      "cell_type": "code",
      "source": [
        "# Importing LabelEncoder from Sklearn\n",
        "# library from preprocessing Module.\n",
        "from sklearn.preprocessing import LabelEncoder\n",
        "\n",
        "le_sex = LabelEncoder()\n",
        "le_embarked = LabelEncoder()\n",
        "\n",
        "df['Sex'] = le_sex.fit_transform(df['Sex'])\n",
        "df['Embarked'] = le_embarked.fit_transform(df['Embarked'])\n",
        "\n",
        "pd.set_option('display.max_rows',None)\n",
        "pd.set_option('display.max_columns',None)\n",
        "\n",
        "pd.reset_option('display.max_rows')\n",
        "pd.reset_option('display.max_columns')\n",
        "\n",
        "print(df.head())\n",
        "\n",
        "X_train, X_test, y_train, y_test = train_test_split(X, y, test_size=0.3, random_state=1)\n",
        "\n",
        "print(\"Features:\\n\")\n",
        "print(X)\n",
        "\n",
        "print(\"Target\\n\")\n",
        "print(y)"
      ],
      "metadata": {
        "colab": {
          "base_uri": "https://localhost:8080/"
        },
        "id": "p5PaeoTtZBaJ",
        "outputId": "c91594da-c361-4b80-ee1c-eea4297f1d58"
      },
      "execution_count": 51,
      "outputs": [
        {
          "output_type": "stream",
          "name": "stdout",
          "text": [
            "   Survived  Pclass  Sex   Age  SibSp  Parch     Fare  Embarked\n",
            "0         0       3    1  34.5      0      0   7.8292         1\n",
            "1         1       3    0  47.0      1      0   7.0000         2\n",
            "2         0       2    1  62.0      0      0   9.6875         1\n",
            "3         0       3    1  27.0      0      0   8.6625         2\n",
            "4         1       3    0  22.0      1      1  12.2875         2\n",
            "Features:\n",
            "\n",
            "     Pclass     Sex       Age  SibSp  Parch      Fare Embarked\n",
            "0         3    male  34.50000      0      0    7.8292        Q\n",
            "1         3  female  47.00000      1      0    7.0000        S\n",
            "2         2    male  62.00000      0      0    9.6875        Q\n",
            "3         3    male  27.00000      0      0    8.6625        S\n",
            "4         3  female  22.00000      1      1   12.2875        S\n",
            "..      ...     ...       ...    ...    ...       ...      ...\n",
            "413       3    male  30.27259      0      0    8.0500        S\n",
            "414       1  female  39.00000      0      0  108.9000        C\n",
            "415       3    male  38.50000      0      0    7.2500        S\n",
            "416       3    male  30.27259      0      0    8.0500        S\n",
            "417       3    male  30.27259      1      1   22.3583        C\n",
            "\n",
            "[418 rows x 7 columns]\n",
            "Target\n",
            "\n",
            "0      0\n",
            "1      1\n",
            "2      0\n",
            "3      0\n",
            "4      1\n",
            "      ..\n",
            "413    0\n",
            "414    1\n",
            "415    0\n",
            "416    0\n",
            "417    0\n",
            "Name: Survived, Length: 418, dtype: int64\n"
          ]
        }
      ]
    },
    {
      "cell_type": "code",
      "source": [
        "# After applying LabelEncoder\n",
        "print(df['Sex'].head())\n",
        "print(df['Embarked'].head())\n",
        "\n",
        "print(df.head())\n"
      ],
      "metadata": {
        "id": "ZzPv0lZdb6pc",
        "colab": {
          "base_uri": "https://localhost:8080/"
        },
        "outputId": "7b39f2fe-dcbf-4fcc-a0d0-8ac72b8955c8"
      },
      "execution_count": 52,
      "outputs": [
        {
          "output_type": "stream",
          "name": "stdout",
          "text": [
            "0    1\n",
            "1    0\n",
            "2    1\n",
            "3    1\n",
            "4    0\n",
            "Name: Sex, dtype: int64\n",
            "0    1\n",
            "1    2\n",
            "2    1\n",
            "3    2\n",
            "4    2\n",
            "Name: Embarked, dtype: int64\n",
            "   Survived  Pclass  Sex   Age  SibSp  Parch     Fare  Embarked\n",
            "0         0       3    1  34.5      0      0   7.8292         1\n",
            "1         1       3    0  47.0      1      0   7.0000         2\n",
            "2         0       2    1  62.0      0      0   9.6875         1\n",
            "3         0       3    1  27.0      0      0   8.6625         2\n",
            "4         1       3    0  22.0      1      1  12.2875         2\n"
          ]
        }
      ]
    },
    {
      "cell_type": "code",
      "source": [
        "X_train, X_test, y_train, y_test = train_test_split(X, y, test_size=0.3, random_state=1)\n",
        "\n",
        "print(\"Features:\\n\")\n",
        "print(X)\n",
        "\n",
        "print(\"Target\\n\")\n",
        "print(y)"
      ],
      "metadata": {
        "colab": {
          "base_uri": "https://localhost:8080/"
        },
        "id": "s8EhE6xM6YQX",
        "outputId": "775a64f0-628c-4773-d9c9-6b18e0cde40d"
      },
      "execution_count": 53,
      "outputs": [
        {
          "output_type": "stream",
          "name": "stdout",
          "text": [
            "Features:\n",
            "\n",
            "     Pclass     Sex       Age  SibSp  Parch      Fare Embarked\n",
            "0         3    male  34.50000      0      0    7.8292        Q\n",
            "1         3  female  47.00000      1      0    7.0000        S\n",
            "2         2    male  62.00000      0      0    9.6875        Q\n",
            "3         3    male  27.00000      0      0    8.6625        S\n",
            "4         3  female  22.00000      1      1   12.2875        S\n",
            "..      ...     ...       ...    ...    ...       ...      ...\n",
            "413       3    male  30.27259      0      0    8.0500        S\n",
            "414       1  female  39.00000      0      0  108.9000        C\n",
            "415       3    male  38.50000      0      0    7.2500        S\n",
            "416       3    male  30.27259      0      0    8.0500        S\n",
            "417       3    male  30.27259      1      1   22.3583        C\n",
            "\n",
            "[418 rows x 7 columns]\n",
            "Target\n",
            "\n",
            "0      0\n",
            "1      1\n",
            "2      0\n",
            "3      0\n",
            "4      1\n",
            "      ..\n",
            "413    0\n",
            "414    1\n",
            "415    0\n",
            "416    0\n",
            "417    0\n",
            "Name: Survived, Length: 418, dtype: int64\n"
          ]
        }
      ]
    },
    {
      "cell_type": "code",
      "source": [
        "X_train, X_test, y_train, y_test = train_test_split(df[['Pclass', 'Sex', 'Age', 'SibSp', 'Parch', 'Fare', 'Embarked']], df['Survived'], test_size=0.3, random_state=1)"
      ],
      "metadata": {
        "id": "F5U1AVTR6kxX"
      },
      "execution_count": 54,
      "outputs": []
    },
    {
      "cell_type": "code",
      "source": [
        "X = df[['Pclass', 'Sex', 'Age', 'SibSp', 'Parch', 'Fare', 'Embarked']]\n",
        "y = df['Survived']\n",
        "\n",
        "X_train, X_test, y_train, y_test = train_test_split(X, y, test_size=0.3, random_state=1)\n"
      ],
      "metadata": {
        "id": "rmeVg9fa7Jhr"
      },
      "execution_count": 55,
      "outputs": []
    },
    {
      "cell_type": "code",
      "source": [
        "print(\"Features:\\n\")\n",
        "print(X)"
      ],
      "metadata": {
        "colab": {
          "base_uri": "https://localhost:8080/"
        },
        "id": "qMr5ecvE7Lnq",
        "outputId": "b503c14d-e700-4f67-ba95-e1cb8c69e596"
      },
      "execution_count": 56,
      "outputs": [
        {
          "output_type": "stream",
          "name": "stdout",
          "text": [
            "Features:\n",
            "\n",
            "     Pclass  Sex       Age  SibSp  Parch      Fare  Embarked\n",
            "0         3    1  34.50000      0      0    7.8292         1\n",
            "1         3    0  47.00000      1      0    7.0000         2\n",
            "2         2    1  62.00000      0      0    9.6875         1\n",
            "3         3    1  27.00000      0      0    8.6625         2\n",
            "4         3    0  22.00000      1      1   12.2875         2\n",
            "..      ...  ...       ...    ...    ...       ...       ...\n",
            "413       3    1  30.27259      0      0    8.0500         2\n",
            "414       1    0  39.00000      0      0  108.9000         0\n",
            "415       3    1  38.50000      0      0    7.2500         2\n",
            "416       3    1  30.27259      0      0    8.0500         2\n",
            "417       3    1  30.27259      1      1   22.3583         0\n",
            "\n",
            "[418 rows x 7 columns]\n"
          ]
        }
      ]
    },
    {
      "cell_type": "code",
      "source": [
        "print(\"Target:\\n\")\n",
        "print(y)"
      ],
      "metadata": {
        "colab": {
          "base_uri": "https://localhost:8080/"
        },
        "id": "d4Lu3ds37PLn",
        "outputId": "bc137a0e-9ecf-43ec-97db-42e0680636c6"
      },
      "execution_count": 57,
      "outputs": [
        {
          "output_type": "stream",
          "name": "stdout",
          "text": [
            "Target:\n",
            "\n",
            "0      0\n",
            "1      1\n",
            "2      0\n",
            "3      0\n",
            "4      1\n",
            "      ..\n",
            "413    0\n",
            "414    1\n",
            "415    0\n",
            "416    0\n",
            "417    0\n",
            "Name: Survived, Length: 418, dtype: int64\n"
          ]
        }
      ]
    },
    {
      "cell_type": "code",
      "source": [
        "print(\"Training data of x:\\n\",X_train)\n",
        "print(\"Testing data of x:\\n\",X_test)\n",
        "print(\"Training data of y:\\n\",y_train)\n",
        "print(\"Testing data of y \\n\",y_test)"
      ],
      "metadata": {
        "colab": {
          "base_uri": "https://localhost:8080/"
        },
        "id": "h9_oUTJc7e2k",
        "outputId": "d55d74dd-85a6-46bd-f6aa-147c2374200e"
      },
      "execution_count": 58,
      "outputs": [
        {
          "output_type": "stream",
          "name": "stdout",
          "text": [
            "Training data of x:\n",
            "      Pclass  Sex       Age  SibSp  Parch     Fare  Embarked\n",
            "383       3    0  19.00000      1      0  16.1000         2\n",
            "380       3    1  30.27259      0      0   7.7500         1\n",
            "27        3    1  22.50000      0      0   7.2250         0\n",
            "89        2    1   2.00000      1      1  23.0000         2\n",
            "326       2    0  12.00000      2      1  39.0000         2\n",
            "..      ...  ...       ...    ...    ...      ...       ...\n",
            "255       3    1  30.27259      0      0   7.5500         2\n",
            "72        3    0  29.00000      0      0   7.9250         2\n",
            "396       3    1  24.00000      0      0   7.2500         1\n",
            "235       3    1  20.00000      0      0   7.8542         2\n",
            "37        3    0  21.00000      0      0   8.6625         2\n",
            "\n",
            "[292 rows x 7 columns]\n",
            "Testing data of x:\n",
            "      Pclass  Sex       Age  SibSp  Parch     Fare  Embarked\n",
            "358       3    1  30.27259      0      0   7.7500         1\n",
            "164       2    1  41.00000      0      0  13.0000         2\n",
            "17        3    1  21.00000      0      0   7.2250         0\n",
            "67        1    1  47.00000      0      0  42.4000         2\n",
            "4         3    0  22.00000      1      1  12.2875         2\n",
            "..      ...  ...       ...    ...    ...      ...       ...\n",
            "392       3    1  13.00000      0      2  20.2500         2\n",
            "367       3    0  22.00000      0      0  39.6875         2\n",
            "273       3    0  30.27259      1      0  15.5000         1\n",
            "300       3    1  32.00000      0      0   7.7750         2\n",
            "82        1    1  49.00000      0      0  26.0000         2\n",
            "\n",
            "[126 rows x 7 columns]\n",
            "Training data of y:\n",
            " 383    1\n",
            "380    0\n",
            "27     0\n",
            "89     0\n",
            "326    1\n",
            "      ..\n",
            "255    0\n",
            "72     1\n",
            "396    0\n",
            "235    0\n",
            "37     1\n",
            "Name: Survived, Length: 292, dtype: int64\n",
            "Testing data of y \n",
            " 358    0\n",
            "164    0\n",
            "17     0\n",
            "67     0\n",
            "4      1\n",
            "      ..\n",
            "392    0\n",
            "367    1\n",
            "273    1\n",
            "300    0\n",
            "82     0\n",
            "Name: Survived, Length: 126, dtype: int64\n"
          ]
        }
      ]
    },
    {
      "cell_type": "code",
      "source": [
        "logr=LogisticRegression()"
      ],
      "metadata": {
        "id": "NHeoJdobQGwD"
      },
      "execution_count": 59,
      "outputs": []
    },
    {
      "cell_type": "code",
      "source": [
        "print(df.isnull().sum())"
      ],
      "metadata": {
        "id": "W2v9Ybfn9zaW",
        "colab": {
          "base_uri": "https://localhost:8080/"
        },
        "outputId": "656679ac-1e93-4bea-995b-f3f1facd6de5"
      },
      "execution_count": 60,
      "outputs": [
        {
          "output_type": "stream",
          "name": "stdout",
          "text": [
            "Survived    0\n",
            "Pclass      0\n",
            "Sex         0\n",
            "Age         0\n",
            "SibSp       0\n",
            "Parch       0\n",
            "Fare        1\n",
            "Embarked    0\n",
            "dtype: int64\n"
          ]
        }
      ]
    },
    {
      "cell_type": "code",
      "source": [
        "imputer = SimpleImputer(strategy='mean')\n",
        "df['Fare'] = imputer.fit_transform(df[['Fare']])"
      ],
      "metadata": {
        "id": "dEsbeGwzQjtQ"
      },
      "execution_count": 61,
      "outputs": []
    },
    {
      "cell_type": "code",
      "source": [
        "print(df.isnull().sum())"
      ],
      "metadata": {
        "colab": {
          "base_uri": "https://localhost:8080/"
        },
        "id": "VdT-3nLQRHJ-",
        "outputId": "e8cff8df-13de-47f0-d65d-30592d8d7baa"
      },
      "execution_count": 62,
      "outputs": [
        {
          "output_type": "stream",
          "name": "stdout",
          "text": [
            "Survived    0\n",
            "Pclass      0\n",
            "Sex         0\n",
            "Age         0\n",
            "SibSp       0\n",
            "Parch       0\n",
            "Fare        0\n",
            "Embarked    0\n",
            "dtype: int64\n"
          ]
        }
      ]
    },
    {
      "cell_type": "code",
      "source": [
        "print(X_train.isnull().sum())"
      ],
      "metadata": {
        "colab": {
          "base_uri": "https://localhost:8080/"
        },
        "id": "rabg-s3cSoCP",
        "outputId": "5c32dfdc-0232-48db-9853-c58eaeecf461"
      },
      "execution_count": 63,
      "outputs": [
        {
          "output_type": "stream",
          "name": "stdout",
          "text": [
            "Pclass      0\n",
            "Sex         0\n",
            "Age         0\n",
            "SibSp       0\n",
            "Parch       0\n",
            "Fare        1\n",
            "Embarked    0\n",
            "dtype: int64\n"
          ]
        }
      ]
    },
    {
      "cell_type": "code",
      "source": [
        "imputer = SimpleImputer(strategy='mean')\n",
        "X_train['Fare'] = imputer.fit_transform(X_train[['Fare']])"
      ],
      "metadata": {
        "id": "-pksZ_m3S4nv"
      },
      "execution_count": 64,
      "outputs": []
    },
    {
      "cell_type": "code",
      "source": [
        "print(X_train.isnull().sum())"
      ],
      "metadata": {
        "colab": {
          "base_uri": "https://localhost:8080/"
        },
        "id": "k1MeM3d0TIwf",
        "outputId": "0d9dab2c-a4b6-47bb-9f01-3eae5e955fd4"
      },
      "execution_count": 65,
      "outputs": [
        {
          "output_type": "stream",
          "name": "stdout",
          "text": [
            "Pclass      0\n",
            "Sex         0\n",
            "Age         0\n",
            "SibSp       0\n",
            "Parch       0\n",
            "Fare        0\n",
            "Embarked    0\n",
            "dtype: int64\n"
          ]
        }
      ]
    },
    {
      "cell_type": "code",
      "source": [
        "logr = LogisticRegression(max_iter=1000)\n",
        "logr.fit(X_train, y_train)\n",
        "\n",
        "# model = LogisticRegression(max_iter=1000)\n",
        "# model.fit(X_train, y_train)"
      ],
      "metadata": {
        "colab": {
          "base_uri": "https://localhost:8080/",
          "height": 74
        },
        "id": "eFw35Z6ATPJv",
        "outputId": "4eb93142-f71b-4992-9770-a45daa1389dc"
      },
      "execution_count": 67,
      "outputs": [
        {
          "output_type": "execute_result",
          "data": {
            "text/plain": [
              "LogisticRegression(max_iter=1000)"
            ],
            "text/html": [
              "<style>#sk-container-id-3 {color: black;background-color: white;}#sk-container-id-3 pre{padding: 0;}#sk-container-id-3 div.sk-toggleable {background-color: white;}#sk-container-id-3 label.sk-toggleable__label {cursor: pointer;display: block;width: 100%;margin-bottom: 0;padding: 0.3em;box-sizing: border-box;text-align: center;}#sk-container-id-3 label.sk-toggleable__label-arrow:before {content: \"▸\";float: left;margin-right: 0.25em;color: #696969;}#sk-container-id-3 label.sk-toggleable__label-arrow:hover:before {color: black;}#sk-container-id-3 div.sk-estimator:hover label.sk-toggleable__label-arrow:before {color: black;}#sk-container-id-3 div.sk-toggleable__content {max-height: 0;max-width: 0;overflow: hidden;text-align: left;background-color: #f0f8ff;}#sk-container-id-3 div.sk-toggleable__content pre {margin: 0.2em;color: black;border-radius: 0.25em;background-color: #f0f8ff;}#sk-container-id-3 input.sk-toggleable__control:checked~div.sk-toggleable__content {max-height: 200px;max-width: 100%;overflow: auto;}#sk-container-id-3 input.sk-toggleable__control:checked~label.sk-toggleable__label-arrow:before {content: \"▾\";}#sk-container-id-3 div.sk-estimator input.sk-toggleable__control:checked~label.sk-toggleable__label {background-color: #d4ebff;}#sk-container-id-3 div.sk-label input.sk-toggleable__control:checked~label.sk-toggleable__label {background-color: #d4ebff;}#sk-container-id-3 input.sk-hidden--visually {border: 0;clip: rect(1px 1px 1px 1px);clip: rect(1px, 1px, 1px, 1px);height: 1px;margin: -1px;overflow: hidden;padding: 0;position: absolute;width: 1px;}#sk-container-id-3 div.sk-estimator {font-family: monospace;background-color: #f0f8ff;border: 1px dotted black;border-radius: 0.25em;box-sizing: border-box;margin-bottom: 0.5em;}#sk-container-id-3 div.sk-estimator:hover {background-color: #d4ebff;}#sk-container-id-3 div.sk-parallel-item::after {content: \"\";width: 100%;border-bottom: 1px solid gray;flex-grow: 1;}#sk-container-id-3 div.sk-label:hover label.sk-toggleable__label {background-color: #d4ebff;}#sk-container-id-3 div.sk-serial::before {content: \"\";position: absolute;border-left: 1px solid gray;box-sizing: border-box;top: 0;bottom: 0;left: 50%;z-index: 0;}#sk-container-id-3 div.sk-serial {display: flex;flex-direction: column;align-items: center;background-color: white;padding-right: 0.2em;padding-left: 0.2em;position: relative;}#sk-container-id-3 div.sk-item {position: relative;z-index: 1;}#sk-container-id-3 div.sk-parallel {display: flex;align-items: stretch;justify-content: center;background-color: white;position: relative;}#sk-container-id-3 div.sk-item::before, #sk-container-id-3 div.sk-parallel-item::before {content: \"\";position: absolute;border-left: 1px solid gray;box-sizing: border-box;top: 0;bottom: 0;left: 50%;z-index: -1;}#sk-container-id-3 div.sk-parallel-item {display: flex;flex-direction: column;z-index: 1;position: relative;background-color: white;}#sk-container-id-3 div.sk-parallel-item:first-child::after {align-self: flex-end;width: 50%;}#sk-container-id-3 div.sk-parallel-item:last-child::after {align-self: flex-start;width: 50%;}#sk-container-id-3 div.sk-parallel-item:only-child::after {width: 0;}#sk-container-id-3 div.sk-dashed-wrapped {border: 1px dashed gray;margin: 0 0.4em 0.5em 0.4em;box-sizing: border-box;padding-bottom: 0.4em;background-color: white;}#sk-container-id-3 div.sk-label label {font-family: monospace;font-weight: bold;display: inline-block;line-height: 1.2em;}#sk-container-id-3 div.sk-label-container {text-align: center;}#sk-container-id-3 div.sk-container {/* jupyter's `normalize.less` sets `[hidden] { display: none; }` but bootstrap.min.css set `[hidden] { display: none !important; }` so we also need the `!important` here to be able to override the default hidden behavior on the sphinx rendered scikit-learn.org. See: https://github.com/scikit-learn/scikit-learn/issues/21755 */display: inline-block !important;position: relative;}#sk-container-id-3 div.sk-text-repr-fallback {display: none;}</style><div id=\"sk-container-id-3\" class=\"sk-top-container\"><div class=\"sk-text-repr-fallback\"><pre>LogisticRegression(max_iter=1000)</pre><b>In a Jupyter environment, please rerun this cell to show the HTML representation or trust the notebook. <br />On GitHub, the HTML representation is unable to render, please try loading this page with nbviewer.org.</b></div><div class=\"sk-container\" hidden><div class=\"sk-item\"><div class=\"sk-estimator sk-toggleable\"><input class=\"sk-toggleable__control sk-hidden--visually\" id=\"sk-estimator-id-3\" type=\"checkbox\" checked><label for=\"sk-estimator-id-3\" class=\"sk-toggleable__label sk-toggleable__label-arrow\">LogisticRegression</label><div class=\"sk-toggleable__content\"><pre>LogisticRegression(max_iter=1000)</pre></div></div></div></div></div>"
            ]
          },
          "metadata": {},
          "execution_count": 67
        }
      ]
    },
    {
      "cell_type": "code",
      "source": [
        "\n",
        "print(\"Training data of x:\\n\",X_train)\n",
        "print(\"Testing data of x:\\n\",X_test)\n",
        "print(\"Training data of y:\\n\",y_train)\n",
        "print(\"Testing data of y \\n\",y_test)"
      ],
      "metadata": {
        "id": "DJUezdWzTUcP",
        "colab": {
          "base_uri": "https://localhost:8080/"
        },
        "outputId": "5f011242-4f61-41e3-cf7e-e37022bb6e65"
      },
      "execution_count": 68,
      "outputs": [
        {
          "output_type": "stream",
          "name": "stdout",
          "text": [
            "Training data of x:\n",
            "      Pclass  Sex       Age  SibSp  Parch     Fare  Embarked\n",
            "383       3    0  19.00000      1      0  16.1000         2\n",
            "380       3    1  30.27259      0      0   7.7500         1\n",
            "27        3    1  22.50000      0      0   7.2250         0\n",
            "89        2    1   2.00000      1      1  23.0000         2\n",
            "326       2    0  12.00000      2      1  39.0000         2\n",
            "..      ...  ...       ...    ...    ...      ...       ...\n",
            "255       3    1  30.27259      0      0   7.5500         2\n",
            "72        3    0  29.00000      0      0   7.9250         2\n",
            "396       3    1  24.00000      0      0   7.2500         1\n",
            "235       3    1  20.00000      0      0   7.8542         2\n",
            "37        3    0  21.00000      0      0   8.6625         2\n",
            "\n",
            "[292 rows x 7 columns]\n",
            "Testing data of x:\n",
            "      Pclass  Sex       Age  SibSp  Parch     Fare  Embarked\n",
            "358       3    1  30.27259      0      0   7.7500         1\n",
            "164       2    1  41.00000      0      0  13.0000         2\n",
            "17        3    1  21.00000      0      0   7.2250         0\n",
            "67        1    1  47.00000      0      0  42.4000         2\n",
            "4         3    0  22.00000      1      1  12.2875         2\n",
            "..      ...  ...       ...    ...    ...      ...       ...\n",
            "392       3    1  13.00000      0      2  20.2500         2\n",
            "367       3    0  22.00000      0      0  39.6875         2\n",
            "273       3    0  30.27259      1      0  15.5000         1\n",
            "300       3    1  32.00000      0      0   7.7750         2\n",
            "82        1    1  49.00000      0      0  26.0000         2\n",
            "\n",
            "[126 rows x 7 columns]\n",
            "Training data of y:\n",
            " 383    1\n",
            "380    0\n",
            "27     0\n",
            "89     0\n",
            "326    1\n",
            "      ..\n",
            "255    0\n",
            "72     1\n",
            "396    0\n",
            "235    0\n",
            "37     1\n",
            "Name: Survived, Length: 292, dtype: int64\n",
            "Testing data of y \n",
            " 358    0\n",
            "164    0\n",
            "17     0\n",
            "67     0\n",
            "4      1\n",
            "      ..\n",
            "392    0\n",
            "367    1\n",
            "273    1\n",
            "300    0\n",
            "82     0\n",
            "Name: Survived, Length: 126, dtype: int64\n"
          ]
        }
      ]
    },
    {
      "cell_type": "code",
      "source": [
        "#Model trained or fitted\n",
        "print(\"Model Fitting:\\n\")\n",
        "logr.fit(X_train,y_train)"
      ],
      "metadata": {
        "colab": {
          "base_uri": "https://localhost:8080/",
          "height": 111
        },
        "id": "onEHQE24_5cT",
        "outputId": "79bd3c48-0301-4b44-a7fe-f180f0721e28"
      },
      "execution_count": 69,
      "outputs": [
        {
          "output_type": "stream",
          "name": "stdout",
          "text": [
            "Model Fitting:\n",
            "\n"
          ]
        },
        {
          "output_type": "execute_result",
          "data": {
            "text/plain": [
              "LogisticRegression(max_iter=1000)"
            ],
            "text/html": [
              "<style>#sk-container-id-4 {color: black;background-color: white;}#sk-container-id-4 pre{padding: 0;}#sk-container-id-4 div.sk-toggleable {background-color: white;}#sk-container-id-4 label.sk-toggleable__label {cursor: pointer;display: block;width: 100%;margin-bottom: 0;padding: 0.3em;box-sizing: border-box;text-align: center;}#sk-container-id-4 label.sk-toggleable__label-arrow:before {content: \"▸\";float: left;margin-right: 0.25em;color: #696969;}#sk-container-id-4 label.sk-toggleable__label-arrow:hover:before {color: black;}#sk-container-id-4 div.sk-estimator:hover label.sk-toggleable__label-arrow:before {color: black;}#sk-container-id-4 div.sk-toggleable__content {max-height: 0;max-width: 0;overflow: hidden;text-align: left;background-color: #f0f8ff;}#sk-container-id-4 div.sk-toggleable__content pre {margin: 0.2em;color: black;border-radius: 0.25em;background-color: #f0f8ff;}#sk-container-id-4 input.sk-toggleable__control:checked~div.sk-toggleable__content {max-height: 200px;max-width: 100%;overflow: auto;}#sk-container-id-4 input.sk-toggleable__control:checked~label.sk-toggleable__label-arrow:before {content: \"▾\";}#sk-container-id-4 div.sk-estimator input.sk-toggleable__control:checked~label.sk-toggleable__label {background-color: #d4ebff;}#sk-container-id-4 div.sk-label input.sk-toggleable__control:checked~label.sk-toggleable__label {background-color: #d4ebff;}#sk-container-id-4 input.sk-hidden--visually {border: 0;clip: rect(1px 1px 1px 1px);clip: rect(1px, 1px, 1px, 1px);height: 1px;margin: -1px;overflow: hidden;padding: 0;position: absolute;width: 1px;}#sk-container-id-4 div.sk-estimator {font-family: monospace;background-color: #f0f8ff;border: 1px dotted black;border-radius: 0.25em;box-sizing: border-box;margin-bottom: 0.5em;}#sk-container-id-4 div.sk-estimator:hover {background-color: #d4ebff;}#sk-container-id-4 div.sk-parallel-item::after {content: \"\";width: 100%;border-bottom: 1px solid gray;flex-grow: 1;}#sk-container-id-4 div.sk-label:hover label.sk-toggleable__label {background-color: #d4ebff;}#sk-container-id-4 div.sk-serial::before {content: \"\";position: absolute;border-left: 1px solid gray;box-sizing: border-box;top: 0;bottom: 0;left: 50%;z-index: 0;}#sk-container-id-4 div.sk-serial {display: flex;flex-direction: column;align-items: center;background-color: white;padding-right: 0.2em;padding-left: 0.2em;position: relative;}#sk-container-id-4 div.sk-item {position: relative;z-index: 1;}#sk-container-id-4 div.sk-parallel {display: flex;align-items: stretch;justify-content: center;background-color: white;position: relative;}#sk-container-id-4 div.sk-item::before, #sk-container-id-4 div.sk-parallel-item::before {content: \"\";position: absolute;border-left: 1px solid gray;box-sizing: border-box;top: 0;bottom: 0;left: 50%;z-index: -1;}#sk-container-id-4 div.sk-parallel-item {display: flex;flex-direction: column;z-index: 1;position: relative;background-color: white;}#sk-container-id-4 div.sk-parallel-item:first-child::after {align-self: flex-end;width: 50%;}#sk-container-id-4 div.sk-parallel-item:last-child::after {align-self: flex-start;width: 50%;}#sk-container-id-4 div.sk-parallel-item:only-child::after {width: 0;}#sk-container-id-4 div.sk-dashed-wrapped {border: 1px dashed gray;margin: 0 0.4em 0.5em 0.4em;box-sizing: border-box;padding-bottom: 0.4em;background-color: white;}#sk-container-id-4 div.sk-label label {font-family: monospace;font-weight: bold;display: inline-block;line-height: 1.2em;}#sk-container-id-4 div.sk-label-container {text-align: center;}#sk-container-id-4 div.sk-container {/* jupyter's `normalize.less` sets `[hidden] { display: none; }` but bootstrap.min.css set `[hidden] { display: none !important; }` so we also need the `!important` here to be able to override the default hidden behavior on the sphinx rendered scikit-learn.org. See: https://github.com/scikit-learn/scikit-learn/issues/21755 */display: inline-block !important;position: relative;}#sk-container-id-4 div.sk-text-repr-fallback {display: none;}</style><div id=\"sk-container-id-4\" class=\"sk-top-container\"><div class=\"sk-text-repr-fallback\"><pre>LogisticRegression(max_iter=1000)</pre><b>In a Jupyter environment, please rerun this cell to show the HTML representation or trust the notebook. <br />On GitHub, the HTML representation is unable to render, please try loading this page with nbviewer.org.</b></div><div class=\"sk-container\" hidden><div class=\"sk-item\"><div class=\"sk-estimator sk-toggleable\"><input class=\"sk-toggleable__control sk-hidden--visually\" id=\"sk-estimator-id-4\" type=\"checkbox\" checked><label for=\"sk-estimator-id-4\" class=\"sk-toggleable__label sk-toggleable__label-arrow\">LogisticRegression</label><div class=\"sk-toggleable__content\"><pre>LogisticRegression(max_iter=1000)</pre></div></div></div></div></div>"
            ]
          },
          "metadata": {},
          "execution_count": 69
        }
      ]
    },
    {
      "cell_type": "code",
      "source": [
        "#predicting\n",
        "print(\"Model Predicting:\\n\")\n",
        "y_pred=logr.predict(X_test)"
      ],
      "metadata": {
        "colab": {
          "base_uri": "https://localhost:8080/"
        },
        "id": "iTtIjAmM_9Dy",
        "outputId": "281ac0b9-848c-4da5-cf8b-61161cd4b9e2"
      },
      "execution_count": 70,
      "outputs": [
        {
          "output_type": "stream",
          "name": "stdout",
          "text": [
            "Model Predicting:\n",
            "\n"
          ]
        }
      ]
    },
    {
      "cell_type": "code",
      "source": [
        "print(\"Coefficients:\\n\",logr.coef_)\n",
        "print(\"Intercepts:\\n\",logr.intercept_)"
      ],
      "metadata": {
        "colab": {
          "base_uri": "https://localhost:8080/"
        },
        "id": "BgASu663__yS",
        "outputId": "a9ce0897-437f-46b2-a2bd-ad00d3733e98"
      },
      "execution_count": 71,
      "outputs": [
        {
          "output_type": "stream",
          "name": "stdout",
          "text": [
            "Coefficients:\n",
            " [[-4.01305653e-02 -6.12521243e+00 -7.82691532e-04  3.94519875e-02\n",
            "   8.76213678e-02  3.07230245e-03 -1.11111725e-02]]\n",
            "Intercepts:\n",
            " [2.75339519]\n"
          ]
        }
      ]
    },
    {
      "cell_type": "code",
      "source": [
        "print(\"Accuracy_score:\\n\",accuracy_score(y_test,y_pred))\n",
        "print(\"Classification_report:\\n\",classification_report(y_test,y_pred))\n",
        "print(\"Confusion matrix:\\n\",confusion_matrix(y_test,y_pred))"
      ],
      "metadata": {
        "colab": {
          "base_uri": "https://localhost:8080/"
        },
        "id": "_HXBwjMrADVC",
        "outputId": "f6b38016-f25e-4466-966a-87308d42eb7d"
      },
      "execution_count": 72,
      "outputs": [
        {
          "output_type": "stream",
          "name": "stdout",
          "text": [
            "Accuracy_score:\n",
            " 1.0\n",
            "Classification_report:\n",
            "               precision    recall  f1-score   support\n",
            "\n",
            "           0       1.00      1.00      1.00        85\n",
            "           1       1.00      1.00      1.00        41\n",
            "\n",
            "    accuracy                           1.00       126\n",
            "   macro avg       1.00      1.00      1.00       126\n",
            "weighted avg       1.00      1.00      1.00       126\n",
            "\n",
            "Confusion matrix:\n",
            " [[85  0]\n",
            " [ 0 41]]\n"
          ]
        }
      ]
    }
  ]
}